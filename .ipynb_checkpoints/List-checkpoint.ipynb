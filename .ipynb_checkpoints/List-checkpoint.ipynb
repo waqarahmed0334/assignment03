{
 "cells": [
  {
   "cell_type": "markdown",
   "id": "995a09c1-7bb3-42e3-b660-3e6f406be0f3",
   "metadata": {},
   "source": [
    "## List Assignment"
   ]
  },
  {
   "cell_type": "markdown",
   "id": "d63928bb-0971-49c2-b867-2bad813b329d",
   "metadata": {},
   "source": [
    "1. Write a program that accepts a list from user and print the alternate element of list."
   ]
  },
  {
   "cell_type": "code",
   "execution_count": 7,
   "id": "eeca1e64-66de-407b-a85c-dc40f307b4f4",
   "metadata": {},
   "outputs": [
    {
     "name": "stdin",
     "output_type": "stream",
     "text": [
      "Enter elements of the list separated by spaces:  1 2 3 4 5 6 7 8 \n"
     ]
    },
    {
     "name": "stdout",
     "output_type": "stream",
     "text": [
      "Alternate elements of the list are:\n",
      "1 3 5 7 \n"
     ]
    }
   ],
   "source": [
    "# Function to print alternate elements of a list\n",
    "def print_alternate_elements(lst):\n",
    "    print(\"Alternate elements of the list are:\")\n",
    "    for i in range(0, len(lst), 2):\n",
    "        print(lst[i], end=\" \")\n",
    "    print()  # For a new line after printing\n",
    "\n",
    "# Main program\n",
    "if __name__ == \"__main__\":\n",
    "    # Accepting a list from the user\n",
    "    user_input = input(\"Enter elements of the list separated by spaces: \")\n",
    "    \n",
    "    # Converting the input string into a list\n",
    "    user_list = user_input.split()\n",
    "    \n",
    "    # Printing alternate elements\n",
    "    print_alternate_elements(user_list)"
   ]
  },
  {
   "cell_type": "markdown",
   "id": "e2f169a5-772f-4243-bdcb-b49ff3fdfda0",
   "metadata": {},
   "source": [
    "2. Write a program that accepts a list from user. Your program should reverse the content of list and\n",
    "display it. Do not use reverse() method. \n"
   ]
  },
  {
   "cell_type": "code",
   "execution_count": 10,
   "id": "4f841341-8250-4361-89b7-841c865bfff5",
   "metadata": {},
   "outputs": [
    {
     "name": "stdin",
     "output_type": "stream",
     "text": [
      "Enter elements of the list separated by spaces:  1 2 3 4 5 6 7 8 9 \n"
     ]
    },
    {
     "name": "stdout",
     "output_type": "stream",
     "text": [
      "Reversed list: 9 8 7 6 5 4 3 2 1\n"
     ]
    }
   ],
   "source": [
    "# Function to reverse a list\n",
    "def reverse_list(lst):\n",
    "    # Initialize an empty list to store the reversed elements\n",
    "    reversed_lst = []\n",
    "    \n",
    "    # Iterate over the original list in reverse order\n",
    "    for i in range(len(lst) - 1, -1, -1):\n",
    "        reversed_lst.append(lst[i])\n",
    "    \n",
    "    return reversed_lst\n",
    "\n",
    "# Main program\n",
    "if __name__ == \"__main__\":\n",
    "    # Accepting a list from the user\n",
    "    user_input = input(\"Enter elements of the list separated by spaces: \")\n",
    "    \n",
    "    # Converting the input string into a list\n",
    "    user_list = user_input.split()\n",
    "    \n",
    "    # Reversing the list\n",
    "    reversed_list = reverse_list(user_list)\n",
    "    \n",
    "    # Displaying the reversed list\n",
    "    print(\"Reversed list:\", \" \".join(reversed_list))"
   ]
  },
  {
   "cell_type": "markdown",
   "id": "2580e6ff-d552-46ac-b8c7-dbe5b1bfd498",
   "metadata": {},
   "source": [
    " 3. Find and display the largest number of a list without using built-in function max(). Your program\n",
    "should ask the user to input values in list from keyboard. \n"
   ]
  },
  {
   "cell_type": "code",
   "execution_count": 13,
   "id": "e8a972f4-2ee4-4f86-be70-bfd64e9b7df6",
   "metadata": {},
   "outputs": [
    {
     "name": "stdin",
     "output_type": "stream",
     "text": [
      "Enter the number of elements in the list:  5\n",
      "Enter element 1:  48\n",
      "Enter element 2:  34\n",
      "Enter element 3:  34\n",
      "Enter element 4:  34\n",
      "Enter element 5:  56\n"
     ]
    },
    {
     "name": "stdout",
     "output_type": "stream",
     "text": [
      "The largest number in the list is: 56\n"
     ]
    }
   ],
   "source": [
    "# Function to find the largest number in a list\n",
    "def find_largest_number(lst):\n",
    "    # Assume the first element is the largest\n",
    "    largest = lst[0]\n",
    "    \n",
    "    # Iterate through the list to find the largest number\n",
    "    for num in lst:\n",
    "        if num > largest:\n",
    "            largest = num\n",
    "    \n",
    "    return largest\n",
    "\n",
    "# Main program\n",
    "if __name__ == \"__main__\":\n",
    "    # Initialize an empty list\n",
    "    user_list = []\n",
    "    \n",
    "    # Ask the user how many elements they want to enter\n",
    "    n = int(input(\"Enter the number of elements in the list: \"))\n",
    "    \n",
    "    # Accept input from the user and add to the list\n",
    "    for i in range(n):\n",
    "        value = int(input(f\"Enter element {i + 1}: \"))\n",
    "        user_list.append(value)\n",
    "    \n",
    "    # Find the largest number in the list\n",
    "    largest_number = find_largest_number(user_list)\n",
    "    \n",
    "    # Display the largest number\n",
    "    print(f\"The largest number in the list is: {largest_number}\")"
   ]
  },
  {
   "cell_type": "markdown",
   "id": "7369af21-665e-4eb6-b96e-905a8f5b7bdd",
   "metadata": {},
   "source": [
    " 4. Write a program that rotates the element of a list so that the element at the first index moves to the\n",
    "second index, the element in the second index moves to the third index, etc., and the element in the last\n",
    "index moves to the first index. "
   ]
  },
  {
   "cell_type": "code",
   "execution_count": 22,
   "id": "96342ae5-32ed-4912-93d0-222e3d43f608",
   "metadata": {},
   "outputs": [
    {
     "name": "stdin",
     "output_type": "stream",
     "text": [
      "Enter elements of the list separated by spaces:  23,45,67,87\n"
     ]
    },
    {
     "name": "stdout",
     "output_type": "stream",
     "text": [
      "Rotated list: 23,45,67,87\n"
     ]
    }
   ],
   "source": [
    "# Function to rotate the elements of a list\n",
    "def rotate_list(lst):\n",
    "    if len(lst) <= 1:\n",
    "        return lst  # No rotation needed for empty or single-element lists\n",
    "    \n",
    "    # Store the first element\n",
    "    first_element = lst[0]\n",
    "    \n",
    "    # Shift elements to the left\n",
    "    for i in range(len(lst) - 1):\n",
    "        lst[i] = lst[i + 1]\n",
    "    \n",
    "    # Move the first element to the last position\n",
    "    lst[-1] = first_element\n",
    "    \n",
    "    return lst\n",
    "\n",
    "# Main program\n",
    "if __name__ == \"__main__\":\n",
    "    # Accepting a list from the user\n",
    "    user_input = input(\"Enter elements of the list separated by spaces: \")\n",
    "    \n",
    "    # Converting the input string into a list\n",
    "    user_list = user_input.split()\n",
    "    \n",
    "    # Rotating the list\n",
    "    rotated_list = rotate_list(user_list)\n",
    "    \n",
    "    # Displaying the rotated list\n",
    "    print(\"Rotated list:\", \" \".join(rotated_list))"
   ]
  },
  {
   "cell_type": "markdown",
   "id": "977e8b8b-1406-419d-bf02-ed49865ec7b1",
   "metadata": {},
   "source": [
    "5. Write a program that input a string and ask user to delete a given word from a string. \n"
   ]
  },
  {
   "cell_type": "code",
   "execution_count": 25,
   "id": "5d4f4d86-159b-4ec8-89f1-332db46ef817",
   "metadata": {},
   "outputs": [
    {
     "name": "stdin",
     "output_type": "stream",
     "text": [
      "Enter a string:  hello world\n",
      "Enter the word to delete:  world\n"
     ]
    },
    {
     "name": "stdout",
     "output_type": "stream",
     "text": [
      "Modified string: hello\n"
     ]
    }
   ],
   "source": [
    "# Function to delete a word from a string\n",
    "def delete_word_from_string(input_string, word_to_delete):\n",
    "    # Split the input string into a list of words\n",
    "    words = input_string.split()\n",
    "    \n",
    "    # Remove all occurrences of the word to delete\n",
    "    words = [word for word in words if word != word_to_delete]\n",
    "    \n",
    "    # Join the remaining words back into a string\n",
    "    result_string = \" \".join(words)\n",
    "    \n",
    "    return result_string\n",
    "\n",
    "# Main program\n",
    "if __name__ == \"__main__\":\n",
    "    # Accepting a string from the user\n",
    "    input_string = input(\"Enter a string: \")\n",
    "    \n",
    "    # Accepting the word to delete from the user\n",
    "    word_to_delete = input(\"Enter the word to delete: \")\n",
    "    \n",
    "    # Deleting the word from the string\n",
    "    modified_string = delete_word_from_string(input_string, word_to_delete)\n",
    "    \n",
    "    # Displaying the modified string\n",
    "    print(\"Modified string:\", modified_string)"
   ]
  },
  {
   "cell_type": "markdown",
   "id": "0975eea9-2dd0-4031-b072-fbecc889f16a",
   "metadata": {},
   "source": [
    " 6. Write a program that reads a string from the user containing a date in the form mm/dd/yyyy. It\n",
    "should print the date in the form March 12, 2021. \n"
   ]
  },
  {
   "cell_type": "code",
   "execution_count": 28,
   "id": "d8b3fa68-9e3f-4651-aac8-c631831f1e9e",
   "metadata": {},
   "outputs": [
    {
     "name": "stdin",
     "output_type": "stream",
     "text": [
      "Enter a date in the format mm/dd/yyyy:  04/15/1994\n"
     ]
    },
    {
     "name": "stdout",
     "output_type": "stream",
     "text": [
      "Formatted date: April 15, 1994\n"
     ]
    }
   ],
   "source": [
    "# Function to convert a date from mm/dd/yyyy to Month Day, Year format\n",
    "def format_date(date_str):\n",
    "    # Split the date into month, day, and year\n",
    "    month, day, year = date_str.split('/')\n",
    "    \n",
    "    # Convert month number to month name\n",
    "    months = [\n",
    "        \"January\", \"February\", \"March\", \"April\", \"May\", \"June\",\n",
    "        \"July\", \"August\", \"September\", \"October\", \"November\", \"December\"\n",
    "    ]\n",
    "    month_name = months[int(month) - 1]  # Subtract 1 because list indices start at 0\n",
    "    \n",
    "    # Format the date as \"Month Day, Year\"\n",
    "    formatted_date = f\"{month_name} {int(day)}, {int(year)}\"\n",
    "    \n",
    "    return formatted_date\n",
    "\n",
    "# Main program\n",
    "if __name__ == \"__main__\":\n",
    "    # Accepting a date from the user in mm/dd/yyyy format\n",
    "    date_input = input(\"Enter a date in the format mm/dd/yyyy: \")\n",
    "    \n",
    "    # Formatting the date\n",
    "    formatted_date = format_date(date_input)\n",
    "    \n",
    "    # Displaying the formatted date\n",
    "    print(\"Formatted date:\", formatted_date)"
   ]
  },
  {
   "cell_type": "code",
   "execution_count": 31,
   "id": "06e1b331-03a1-4681-9c98-7d30789f95de",
   "metadata": {},
   "outputs": [
    {
     "name": "stdin",
     "output_type": "stream",
     "text": [
      "Enter a sentence:  stop and smell the roses\n"
     ]
    },
    {
     "name": "stdout",
     "output_type": "stream",
     "text": [
      "Capitalized sentence: Stop And Smell The Roses\n"
     ]
    }
   ],
   "source": [
    "# Function to capitalize the first character of each word\n",
    "def capitalize_each_word(sentence):\n",
    "    # Split the sentence into words\n",
    "    words = sentence.split()\n",
    "    \n",
    "    # Capitalize the first character of each word\n",
    "    capitalized_words = [word.capitalize() for word in words]\n",
    "    \n",
    "    # Join the capitalized words back into a single string\n",
    "    capitalized_sentence = \" \".join(capitalized_words)\n",
    "    \n",
    "    return capitalized_sentence\n",
    "\n",
    "# Main program\n",
    "if __name__ == \"__main__\":\n",
    "    # Accepting a sentence from the user\n",
    "    sentence = input(\"Enter a sentence: \")\n",
    "    \n",
    "    # Capitalizing the first character of each word\n",
    "    capitalized_sentence = capitalize_each_word(sentence)\n",
    "    \n",
    "    # Displaying the capitalized sentence\n",
    "    print(\"Capitalized sentence:\", capitalized_sentence)"
   ]
  },
  {
   "cell_type": "markdown",
   "id": "61aeffa0-d588-4899-b730-28d52ce24051",
   "metadata": {},
   "source": [
    " 7. Write a program with a function that accepts a string from keyboard and create a new string after\n",
    "converting character of each word capitalized. For instance, if the sentence is \"stop and smell the roses.\"\n",
    "the output should be \"Stop And Smell The Roses\" "
   ]
  },
  {
   "cell_type": "markdown",
   "id": "25c80db8-dcfd-4ca5-b1df-63132162a2ab",
   "metadata": {},
   "source": [
    "8. Find the sum of each row of matrix of size m x n. For example for the following matrix output will be\n",
    "like this : "
   ]
  },
  {
   "cell_type": "code",
   "execution_count": 37,
   "id": "2b41eb8b-36bd-4d4f-b096-aa1e8331cfff",
   "metadata": {},
   "outputs": [
    {
     "name": "stdout",
     "output_type": "stream",
     "text": [
      "Sum of each row: 32, 31, 63\n"
     ]
    }
   ],
   "source": [
    "# Function to calculate the sum of each row in a matrix\n",
    "def sum_of_rows(matrix):\n",
    "    row_sums = []  # List to store the sum of each row\n",
    "    \n",
    "    # Iterate through each row in the matrix\n",
    "    for row in matrix:\n",
    "        row_sum = sum(row)  # Calculate the sum of the current row\n",
    "        row_sums.append(row_sum)  # Add the sum to the list\n",
    "    \n",
    "    return row_sums\n",
    "\n",
    "# Main program\n",
    "if __name__ == \"__main__\":\n",
    "    # Predefined matrix\n",
    "    matrix = [\n",
    "        [2, 11, 7, 12],\n",
    "        [5, 2, 9, 15],\n",
    "        [8, 3, 10, 42]\n",
    "    ]\n",
    "    \n",
    "    # Calculate the sum of each row\n",
    "    row_sums = sum_of_rows(matrix)\n",
    "    \n",
    "    # Display the sum of each row\n",
    "    print(\"Sum of each row:\", \", \".join(map(str, row_sums)))"
   ]
  },
  {
   "cell_type": "markdown",
   "id": "ca232d5b-36d4-4c20-ad36-3874ee5930f9",
   "metadata": {},
   "source": [
    "9. Write a program to add two matrices of size n x m. \n"
   ]
  },
  {
   "cell_type": "code",
   "execution_count": null,
   "id": "06b2b3ed-5c9b-40a7-b596-b79f2d1a8183",
   "metadata": {},
   "outputs": [],
   "source": [
    "# Function to multiply two matrices\n",
    "def multiply_matrices(matrix1, matrix2):\n",
    "    # Get the dimensions of the matrices\n",
    "    rows1 = len(matrix1)\n",
    "    cols1 = len(matrix1[0])\n",
    "    rows2 = len(matrix2)\n",
    "    cols2 = len(matrix2[0])\n",
    "    \n",
    "    # Check if multiplication is possible\n",
    "    if cols1 != rows2:\n",
    "        return None  # Matrices cannot be multiplied\n",
    "    \n",
    "    # Initialize the result matrix with zeros\n",
    "    result = [[0 for _ in range(cols2)] for _ in range(rows1)]\n",
    "    \n",
    "    # Perform matrix multiplication\n",
    "    for i in range(rows1):\n",
    "        for j in range(cols2):\n",
    "            for k in range(cols1):\n",
    "                result[i][j] += matrix1[i][k] * matrix2[k][j]\n",
    "    \n",
    "    return result\n",
    "\n",
    "# Main program\n",
    "if __name__ == \"__main__\":\n",
    "    # Input the dimensions of the first matrix\n",
    "    rows1 = int(input(\"Enter the number of rows for the first matrix: \"))\n",
    "    cols1 = int(input(\"Enter the number of columns for the first matrix: \"))\n",
    "    \n",
    "    # Input the first matrix\n",
    "    print(\"Enter the elements of the first matrix:\")\n",
    "    matrix1 = []\n",
    "    for i in range(rows1):\n",
    "        row = list(map(int, input(f\"Enter row {i + 1} (space-separated): \").split()))\n",
    "        matrix1.append(row)\n",
    "    \n",
    "    # Input the dimensions of the second matrix\n",
    "    rows2 = int(input(\"Enter the number of rows for the second matrix: \"))\n",
    "    cols2 = int(input(\"Enter the number of columns for the second matrix: \"))\n",
    "    \n",
    "    # Check if multiplication is possible\n",
    "    if cols1 != rows2:\n",
    "        print(\"Error: The number of columns in the first matrix must be equal to the number of rows in the second matrix.\")\n",
    "    else:\n",
    "        # Input the second matrix\n",
    "        print(\"Enter the elements of the second matrix:\")\n",
    "        matrix2 = []\n",
    "        for i in range(rows2):\n",
    "            row = list(map(int, input(f\"Enter row {i + 1} (space-separated): \").split()))\n",
    "            matrix2.append(row)\n",
    "        \n",
    "        # Multiply the two matrices\n",
    "        result_matrix = multiply_matrices(matrix1, matrix2)\n",
    "        \n",
    "        # Display the result matrix\n",
    "        if result_matrix:\n",
    "            print(\"Product of the two matrices:\")\n",
    "            for row in result_matrix:\n",
    "                print(row)"
   ]
  },
  {
   "cell_type": "markdown",
   "id": "ca1f76b7-c789-4a06-80b0-1939da436c5e",
   "metadata": {},
   "source": [
    "10. Write a program to multiply two matrices "
   ]
  },
  {
   "cell_type": "code",
   "execution_count": 43,
   "id": "3712a523-6427-4b7b-83b2-9f73a46dbcb2",
   "metadata": {},
   "outputs": [
    {
     "name": "stdin",
     "output_type": "stream",
     "text": [
      "Enter the number of rows (n):  2\n",
      "Enter the number of columns (m):  2\n"
     ]
    },
    {
     "name": "stdout",
     "output_type": "stream",
     "text": [
      "Enter the elements of the first matrix:\n"
     ]
    },
    {
     "name": "stdin",
     "output_type": "stream",
     "text": [
      "Enter row 1 (space-separated):  1\n",
      "Enter row 2 (space-separated):  2\n"
     ]
    },
    {
     "name": "stdout",
     "output_type": "stream",
     "text": [
      "Enter the elements of the second matrix:\n"
     ]
    },
    {
     "name": "stdin",
     "output_type": "stream",
     "text": [
      "Enter row 1 (space-separated):  2\n",
      "Enter row 2 (space-separated):  2\n"
     ]
    },
    {
     "name": "stdout",
     "output_type": "stream",
     "text": [
      "Sum of the two matrices:\n",
      "[3]\n",
      "[4]\n"
     ]
    }
   ],
   "source": [
    "# Function to add two matrices\n",
    "def add_matrices(matrix1, matrix2):\n",
    "    # Initialize an empty matrix to store the result\n",
    "    result = []\n",
    "    \n",
    "    # Iterate through each row\n",
    "    for i in range(len(matrix1)):\n",
    "        # Initialize an empty row to store the sum of corresponding elements\n",
    "        row = []\n",
    "        \n",
    "        # Iterate through each column\n",
    "        for j in range(len(matrix1[0])):\n",
    "            # Add corresponding elements from matrix1 and matrix2\n",
    "            row.append(matrix1[i][j] + matrix2[i][j])\n",
    "        \n",
    "        # Add the row to the result matrix\n",
    "        result.append(row)\n",
    "    \n",
    "    return result\n",
    "\n",
    "# Main program\n",
    "if __name__ == \"__main__\":\n",
    "    # Input the dimensions of the matrices\n",
    "    n = int(input(\"Enter the number of rows (n): \"))\n",
    "    m = int(input(\"Enter the number of columns (m): \"))\n",
    "    \n",
    "    # Input the first matrix\n",
    "    print(\"Enter the elements of the first matrix:\")\n",
    "    matrix1 = []\n",
    "    for i in range(n):\n",
    "        row = list(map(int, input(f\"Enter row {i + 1} (space-separated): \").split()))\n",
    "        matrix1.append(row)\n",
    "    \n",
    "    # Input the second matrix\n",
    "    print(\"Enter the elements of the second matrix:\")\n",
    "    matrix2 = []\n",
    "    for i in range(n):\n",
    "        row = list(map(int, input(f\"Enter row {i + 1} (space-separated): \").split()))\n",
    "        matrix2.append(row)\n",
    "    \n",
    "    # Add the two matrices\n",
    "    result_matrix = add_matrices(matrix1, matrix2)\n",
    "    \n",
    "    # Display the result matrix\n",
    "    print(\"Sum of the two matrices:\")\n",
    "    for row in result_matrix:\n",
    "        print(row)"
   ]
  },
  {
   "cell_type": "code",
   "execution_count": null,
   "id": "0c500bd7-e155-414f-a156-d3e21d992a7d",
   "metadata": {},
   "outputs": [],
   "source": []
  }
 ],
 "metadata": {
  "kernelspec": {
   "display_name": "Python [conda env:base] *",
   "language": "python",
   "name": "conda-base-py"
  },
  "language_info": {
   "codemirror_mode": {
    "name": "ipython",
    "version": 3
   },
   "file_extension": ".py",
   "mimetype": "text/x-python",
   "name": "python",
   "nbconvert_exporter": "python",
   "pygments_lexer": "ipython3",
   "version": "3.12.7"
  }
 },
 "nbformat": 4,
 "nbformat_minor": 5
}
